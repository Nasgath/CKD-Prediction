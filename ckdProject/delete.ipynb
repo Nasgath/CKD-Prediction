{
 "cells": [
  {
   "cell_type": "code",
   "execution_count": 1,
   "id": "b353b2aa",
   "metadata": {},
   "outputs": [
    {
     "name": "stdout",
     "output_type": "stream",
     "text": [
      "Collecting shap\n",
      "  Downloading shap-0.42.1-cp37-cp37m-win_amd64.whl.metadata (24 kB)\n",
      "Requirement already satisfied: numpy in c:\\users\\admin\\anaconda3\\envs\\aiml\\lib\\site-packages (from shap) (1.17.4)\n",
      "Requirement already satisfied: scipy in c:\\users\\admin\\anaconda3\\envs\\aiml\\lib\\site-packages (from shap) (1.7.3)\n",
      "Requirement already satisfied: scikit-learn in c:\\users\\admin\\anaconda3\\envs\\aiml\\lib\\site-packages (from shap) (1.0.2)\n",
      "Requirement already satisfied: pandas in c:\\users\\admin\\anaconda3\\envs\\aiml\\lib\\site-packages (from shap) (0.25.3)\n",
      "Collecting tqdm>=4.27.0 (from shap)\n",
      "  Downloading tqdm-4.66.2-py3-none-any.whl.metadata (57 kB)\n",
      "     -------------------------------------- 57.6/57.6 kB 301.6 kB/s eta 0:00:00\n",
      "Requirement already satisfied: packaging>20.9 in c:\\users\\admin\\anaconda3\\envs\\aiml\\lib\\site-packages (from shap) (22.0)\n",
      "Collecting slicer==0.0.7 (from shap)\n",
      "  Downloading slicer-0.0.7-py3-none-any.whl (14 kB)\n",
      "Collecting numba (from shap)\n",
      "  Downloading numba-0.56.4-cp37-cp37m-win_amd64.whl.metadata (2.8 kB)\n",
      "Collecting cloudpickle (from shap)\n",
      "  Downloading cloudpickle-2.2.1-py3-none-any.whl.metadata (6.9 kB)\n",
      "Requirement already satisfied: colorama in c:\\users\\admin\\anaconda3\\envs\\aiml\\lib\\site-packages (from tqdm>=4.27.0->shap) (0.4.6)\n",
      "Collecting llvmlite<0.40,>=0.39.0dev0 (from numba->shap)\n",
      "  Downloading llvmlite-0.39.1-cp37-cp37m-win_amd64.whl (23.2 MB)\n",
      "     ---------------------------------------- 23.2/23.2 MB 2.7 MB/s eta 0:00:00\n",
      "Collecting numpy (from shap)\n",
      "  Downloading numpy-1.21.6-cp37-cp37m-win_amd64.whl (14.0 MB)\n",
      "     ---------------------------------------- 14.0/14.0 MB 2.4 MB/s eta 0:00:00\n",
      "Requirement already satisfied: setuptools in c:\\users\\admin\\anaconda3\\envs\\aiml\\lib\\site-packages (from numba->shap) (65.6.3)\n",
      "Requirement already satisfied: importlib-metadata in c:\\users\\admin\\anaconda3\\envs\\aiml\\lib\\site-packages (from numba->shap) (4.11.3)\n",
      "Requirement already satisfied: python-dateutil>=2.6.1 in c:\\users\\admin\\anaconda3\\envs\\aiml\\lib\\site-packages (from pandas->shap) (2.8.2)\n",
      "Requirement already satisfied: pytz>=2017.2 in c:\\users\\admin\\anaconda3\\envs\\aiml\\lib\\site-packages (from pandas->shap) (2022.7)\n",
      "Requirement already satisfied: joblib>=0.11 in c:\\users\\admin\\anaconda3\\envs\\aiml\\lib\\site-packages (from scikit-learn->shap) (1.3.2)\n",
      "Requirement already satisfied: threadpoolctl>=2.0.0 in c:\\users\\admin\\anaconda3\\envs\\aiml\\lib\\site-packages (from scikit-learn->shap) (3.1.0)\n",
      "Requirement already satisfied: six>=1.5 in c:\\users\\admin\\anaconda3\\envs\\aiml\\lib\\site-packages (from python-dateutil>=2.6.1->pandas->shap) (1.16.0)\n",
      "Requirement already satisfied: zipp>=0.5 in c:\\users\\admin\\anaconda3\\envs\\aiml\\lib\\site-packages (from importlib-metadata->numba->shap) (3.11.0)\n",
      "Requirement already satisfied: typing-extensions>=3.6.4 in c:\\users\\admin\\anaconda3\\envs\\aiml\\lib\\site-packages (from importlib-metadata->numba->shap) (4.3.0)\n",
      "Downloading shap-0.42.1-cp37-cp37m-win_amd64.whl (462 kB)\n",
      "   -------------------------------------- 462.1/462.1 kB 963.4 kB/s eta 0:00:00\n",
      "Downloading tqdm-4.66.2-py3-none-any.whl (78 kB)\n",
      "   ---------------------------------------- 78.3/78.3 kB 94.8 kB/s eta 0:00:00\n",
      "Downloading cloudpickle-2.2.1-py3-none-any.whl (25 kB)\n",
      "Downloading numba-0.56.4-cp37-cp37m-win_amd64.whl (2.5 MB)\n",
      "   ---------------------------------------- 2.5/2.5 MB 1.7 MB/s eta 0:00:00\n",
      "Installing collected packages: tqdm, slicer, numpy, llvmlite, cloudpickle, numba, shap\n",
      "  Attempting uninstall: numpy\n",
      "    Found existing installation: numpy 1.17.4\n",
      "    Uninstalling numpy-1.17.4:\n",
      "      Successfully uninstalled numpy-1.17.4\n",
      "Successfully installed cloudpickle-2.2.1 llvmlite-0.39.1 numba-0.56.4 numpy-1.21.6 shap-0.42.1 slicer-0.0.7 tqdm-4.66.2\n",
      "Note: you may need to restart the kernel to use updated packages.\n"
     ]
    },
    {
     "name": "stderr",
     "output_type": "stream",
     "text": [
      "  WARNING: Failed to remove contents in a temporary directory 'c:\\users\\admin\\anaconda3\\envs\\aiml\\lib\\site-packages\\~umpy'.\n",
      "  You can safely remove it manually.\n",
      "\n",
      "[notice] A new release of pip is available: 23.3.1 -> 24.0\n",
      "[notice] To update, run: python.exe -m pip install --upgrade pip\n"
     ]
    }
   ],
   "source": [
    "pip install shap\n"
   ]
  },
  {
   "cell_type": "code",
   "execution_count": null,
   "id": "3f5d002a",
   "metadata": {},
   "outputs": [],
   "source": [
    "pip install --upgrade pip"
   ]
  },
  {
   "cell_type": "code",
   "execution_count": 1,
   "id": "da3d0aaf",
   "metadata": {},
   "outputs": [
    {
     "name": "stdout",
     "output_type": "stream",
     "text": [
      "Collecting numpy==1.17.4\n",
      "  Downloading numpy-1.17.4-cp37-cp37m-win_amd64.whl (12.7 MB)\n",
      "     -------------------------------------- 12.7/12.7 MB 927.2 kB/s eta 0:00:00\n",
      "Installing collected packages: numpy\n",
      "  Attempting uninstall: numpy\n",
      "    Found existing installation: numpy 1.21.6\n",
      "    Uninstalling numpy-1.21.6:\n",
      "      Successfully uninstalled numpy-1.21.6\n",
      "Successfully installed numpy-1.17.4\n",
      "Note: you may need to restart the kernel to use updated packages.\n"
     ]
    },
    {
     "name": "stderr",
     "output_type": "stream",
     "text": [
      "  WARNING: Failed to remove contents in a temporary directory 'c:\\users\\admin\\anaconda3\\envs\\aiml\\lib\\site-packages\\~-mpy'.\n",
      "  You can safely remove it manually.\n",
      "ERROR: pip's dependency resolver does not currently take into account all the packages that are installed. This behaviour is the source of the following dependency conflicts.\n",
      "numba 0.56.4 requires numpy<1.24,>=1.18, but you have numpy 1.17.4 which is incompatible.\n"
     ]
    }
   ],
   "source": [
    "pip install numpy==1.17.4"
   ]
  },
  {
   "cell_type": "code",
   "execution_count": 3,
   "id": "e6b7f8c9",
   "metadata": {},
   "outputs": [
    {
     "name": "stdout",
     "output_type": "stream",
     "text": [
      "Requirement already satisfied: numpy in c:\\users\\admin\\anaconda3\\envs\\aiml\\lib\\site-packages (1.17.4)\n",
      "Collecting numpy\n",
      "  Using cached numpy-1.21.6-cp37-cp37m-win_amd64.whl (14.0 MB)\n",
      "Installing collected packages: numpy\n",
      "  Attempting uninstall: numpy\n",
      "    Found existing installation: numpy 1.17.4\n",
      "    Uninstalling numpy-1.17.4:\n",
      "      Successfully uninstalled numpy-1.17.4\n",
      "Successfully installed numpy-1.21.6\n",
      "Note: you may need to restart the kernel to use updated packages.\n"
     ]
    }
   ],
   "source": [
    "pip install numpy --upgrade"
   ]
  },
  {
   "cell_type": "code",
   "execution_count": 4,
   "id": "b5fcf485",
   "metadata": {},
   "outputs": [
    {
     "name": "stdout",
     "output_type": "stream",
     "text": [
      "Requirement already satisfied: pandas in c:\\users\\admin\\anaconda3\\envs\\aiml\\lib\\site-packages (0.25.3)Note: you may need to restart the kernel to use updated packages.\n",
      "\n",
      "Collecting pandas\n",
      "  Downloading pandas-1.3.5-cp37-cp37m-win_amd64.whl (10.0 MB)\n",
      "     ---------------------------------------- 10.0/10.0 MB 3.2 MB/s eta 0:00:00\n",
      "Requirement already satisfied: python-dateutil>=2.7.3 in c:\\users\\admin\\anaconda3\\envs\\aiml\\lib\\site-packages (from pandas) (2.8.2)\n",
      "Requirement already satisfied: pytz>=2017.3 in c:\\users\\admin\\anaconda3\\envs\\aiml\\lib\\site-packages (from pandas) (2022.7)\n",
      "Requirement already satisfied: numpy>=1.17.3 in c:\\users\\admin\\anaconda3\\envs\\aiml\\lib\\site-packages (from pandas) (1.21.6)\n",
      "Requirement already satisfied: six>=1.5 in c:\\users\\admin\\anaconda3\\envs\\aiml\\lib\\site-packages (from python-dateutil>=2.7.3->pandas) (1.16.0)\n",
      "Installing collected packages: pandas\n",
      "  Attempting uninstall: pandas\n",
      "    Found existing installation: pandas 0.25.3\n",
      "    Uninstalling pandas-0.25.3:\n",
      "      Successfully uninstalled pandas-0.25.3\n",
      "Successfully installed pandas-1.3.5\n"
     ]
    }
   ],
   "source": [
    "pip install --upgrade pandas"
   ]
  },
  {
   "cell_type": "code",
   "execution_count": 5,
   "id": "a2759f74",
   "metadata": {},
   "outputs": [
    {
     "name": "stdout",
     "output_type": "stream",
     "text": [
      "Collecting eli5==0.10.1Note: you may need to restart the kernel to use updated packages.\n",
      "\n",
      "  Downloading eli5-0.10.1-py2.py3-none-any.whl (105 kB)\n",
      "     ------------------------------------ 105.8/105.8 kB 436.5 kB/s eta 0:00:00\n",
      "Requirement already satisfied: attrs>16.0.0 in c:\\users\\admin\\anaconda3\\envs\\aiml\\lib\\site-packages (from eli5==0.10.1) (22.1.0)\n",
      "Requirement already satisfied: jinja2 in c:\\users\\admin\\anaconda3\\envs\\aiml\\lib\\site-packages (from eli5==0.10.1) (3.1.2)\n",
      "Requirement already satisfied: numpy>=1.9.0 in c:\\users\\admin\\anaconda3\\envs\\aiml\\lib\\site-packages (from eli5==0.10.1) (1.21.6)\n",
      "Requirement already satisfied: scipy in c:\\users\\admin\\anaconda3\\envs\\aiml\\lib\\site-packages (from eli5==0.10.1) (1.7.3)\n",
      "Requirement already satisfied: six in c:\\users\\admin\\anaconda3\\envs\\aiml\\lib\\site-packages (from eli5==0.10.1) (1.16.0)\n",
      "Requirement already satisfied: scikit-learn>=0.18 in c:\\users\\admin\\anaconda3\\envs\\aiml\\lib\\site-packages (from eli5==0.10.1) (1.0.2)\n",
      "Collecting graphviz (from eli5==0.10.1)\n",
      "  Downloading graphviz-0.20.1-py3-none-any.whl.metadata (12 kB)\n",
      "Collecting tabulate>=0.7.7 (from eli5==0.10.1)\n",
      "  Downloading tabulate-0.9.0-py3-none-any.whl.metadata (34 kB)\n",
      "Requirement already satisfied: joblib>=0.11 in c:\\users\\admin\\anaconda3\\envs\\aiml\\lib\\site-packages (from scikit-learn>=0.18->eli5==0.10.1) (1.3.2)\n",
      "Requirement already satisfied: threadpoolctl>=2.0.0 in c:\\users\\admin\\anaconda3\\envs\\aiml\\lib\\site-packages (from scikit-learn>=0.18->eli5==0.10.1) (3.1.0)\n",
      "Requirement already satisfied: MarkupSafe>=2.0 in c:\\users\\admin\\anaconda3\\envs\\aiml\\lib\\site-packages (from jinja2->eli5==0.10.1) (2.1.1)\n",
      "Downloading tabulate-0.9.0-py3-none-any.whl (35 kB)\n",
      "Downloading graphviz-0.20.1-py3-none-any.whl (47 kB)\n",
      "   ---------------------------------------- 47.0/47.0 kB 235.9 kB/s eta 0:00:00\n",
      "Installing collected packages: tabulate, graphviz, eli5\n",
      "Successfully installed eli5-0.10.1 graphviz-0.20.1 tabulate-0.9.0\n"
     ]
    }
   ],
   "source": [
    "pip install eli5==0.10.1"
   ]
  },
  {
   "cell_type": "code",
   "execution_count": 6,
   "id": "7ce1ffb8",
   "metadata": {},
   "outputs": [
    {
     "name": "stdout",
     "output_type": "stream",
     "text": [
      "Collecting pdpbox==0.2.0Note: you may need to restart the kernel to use updated packages.\n",
      "\n",
      "  Downloading PDPbox-0.2.0.tar.gz (57.7 MB)\n",
      "     ---------------------------------------- 57.7/57.7 MB 2.3 MB/s eta 0:00:00\n",
      "  Preparing metadata (setup.py): started\n",
      "  Preparing metadata (setup.py): finished with status 'done'\n",
      "Requirement already satisfied: pandas in c:\\users\\admin\\anaconda3\\envs\\aiml\\lib\\site-packages (from pdpbox==0.2.0) (1.3.5)\n",
      "Requirement already satisfied: numpy in c:\\users\\admin\\anaconda3\\envs\\aiml\\lib\\site-packages (from pdpbox==0.2.0) (1.21.6)\n",
      "Requirement already satisfied: scipy in c:\\users\\admin\\anaconda3\\envs\\aiml\\lib\\site-packages (from pdpbox==0.2.0) (1.7.3)\n",
      "Requirement already satisfied: matplotlib>=2.1.2 in c:\\users\\admin\\anaconda3\\envs\\aiml\\lib\\site-packages (from pdpbox==0.2.0) (3.1.1)\n",
      "Requirement already satisfied: joblib in c:\\users\\admin\\anaconda3\\envs\\aiml\\lib\\site-packages (from pdpbox==0.2.0) (1.3.2)\n",
      "Requirement already satisfied: psutil in c:\\users\\admin\\anaconda3\\envs\\aiml\\lib\\site-packages (from pdpbox==0.2.0) (5.9.0)\n",
      "Requirement already satisfied: scikit-learn in c:\\users\\admin\\anaconda3\\envs\\aiml\\lib\\site-packages (from pdpbox==0.2.0) (1.0.2)\n",
      "Requirement already satisfied: cycler>=0.10 in c:\\users\\admin\\anaconda3\\envs\\aiml\\lib\\site-packages (from matplotlib>=2.1.2->pdpbox==0.2.0) (0.11.0)\n",
      "Requirement already satisfied: kiwisolver>=1.0.1 in c:\\users\\admin\\anaconda3\\envs\\aiml\\lib\\site-packages (from matplotlib>=2.1.2->pdpbox==0.2.0) (1.4.5)\n",
      "Requirement already satisfied: pyparsing!=2.0.4,!=2.1.2,!=2.1.6,>=2.0.1 in c:\\users\\admin\\anaconda3\\envs\\aiml\\lib\\site-packages (from matplotlib>=2.1.2->pdpbox==0.2.0) (3.1.1)\n",
      "Requirement already satisfied: python-dateutil>=2.1 in c:\\users\\admin\\anaconda3\\envs\\aiml\\lib\\site-packages (from matplotlib>=2.1.2->pdpbox==0.2.0) (2.8.2)\n",
      "Requirement already satisfied: pytz>=2017.3 in c:\\users\\admin\\anaconda3\\envs\\aiml\\lib\\site-packages (from pandas->pdpbox==0.2.0) (2022.7)\n",
      "Requirement already satisfied: threadpoolctl>=2.0.0 in c:\\users\\admin\\anaconda3\\envs\\aiml\\lib\\site-packages (from scikit-learn->pdpbox==0.2.0) (3.1.0)\n",
      "Requirement already satisfied: typing-extensions in c:\\users\\admin\\anaconda3\\envs\\aiml\\lib\\site-packages (from kiwisolver>=1.0.1->matplotlib>=2.1.2->pdpbox==0.2.0) (4.3.0)\n",
      "Requirement already satisfied: six>=1.5 in c:\\users\\admin\\anaconda3\\envs\\aiml\\lib\\site-packages (from python-dateutil>=2.1->matplotlib>=2.1.2->pdpbox==0.2.0) (1.16.0)\n",
      "Building wheels for collected packages: pdpbox\n",
      "  Building wheel for pdpbox (setup.py): started\n",
      "  Building wheel for pdpbox (setup.py): finished with status 'done'\n",
      "  Created wheel for pdpbox: filename=PDPbox-0.2.0-py3-none-any.whl size=57690721 sha256=e923e110a1bf6c8ca52038e9f74518011b770b48fd588f9d58df6ce89b5262ca\n",
      "  Stored in directory: c:\\users\\admin\\appdata\\local\\pip\\cache\\wheels\\68\\fe\\64\\20ca2c417f503c2d1e24f40b3eba7aba9cc3e6e681fadf7de1\n",
      "Successfully built pdpbox\n",
      "Installing collected packages: pdpbox\n",
      "Successfully installed pdpbox-0.2.0\n"
     ]
    }
   ],
   "source": [
    "pip install pdpbox==0.2.0"
   ]
  },
  {
   "cell_type": "code",
   "execution_count": 7,
   "id": "190fc235",
   "metadata": {},
   "outputs": [
    {
     "name": "stdout",
     "output_type": "stream",
     "text": [
      "Requirement already satisfied: django-crispy-forms==1.8.1 in c:\\users\\admin\\anaconda3\\envs\\aiml\\lib\\site-packages (1.8.1)Note: you may need to restart the kernel to use updated packages.\n",
      "\n"
     ]
    }
   ],
   "source": [
    "pip install django-crispy-forms==1.8.1"
   ]
  },
  {
   "cell_type": "code",
   "execution_count": 9,
   "id": "61fe38f6",
   "metadata": {},
   "outputs": [
    {
     "name": "stdout",
     "output_type": "stream",
     "text": [
      "Requirement already satisfied: statsmodels in c:\\users\\admin\\anaconda3\\envs\\aiml\\lib\\site-packages (0.13.5)Note: you may need to restart the kernel to use updated packages.\n",
      "\n",
      "Requirement already satisfied: pandas>=0.25 in c:\\users\\admin\\anaconda3\\envs\\aiml\\lib\\site-packages (from statsmodels) (1.3.5)\n",
      "Requirement already satisfied: patsy>=0.5.2 in c:\\users\\admin\\anaconda3\\envs\\aiml\\lib\\site-packages (from statsmodels) (0.5.4)\n",
      "Requirement already satisfied: packaging>=21.3 in c:\\users\\admin\\anaconda3\\envs\\aiml\\lib\\site-packages (from statsmodels) (22.0)\n",
      "Requirement already satisfied: scipy>=1.3 in c:\\users\\admin\\anaconda3\\envs\\aiml\\lib\\site-packages (from statsmodels) (1.7.3)\n",
      "Requirement already satisfied: numpy>=1.17 in c:\\users\\admin\\anaconda3\\envs\\aiml\\lib\\site-packages (from statsmodels) (1.21.6)\n",
      "Requirement already satisfied: python-dateutil>=2.7.3 in c:\\users\\admin\\anaconda3\\envs\\aiml\\lib\\site-packages (from pandas>=0.25->statsmodels) (2.8.2)\n",
      "Requirement already satisfied: pytz>=2017.3 in c:\\users\\admin\\anaconda3\\envs\\aiml\\lib\\site-packages (from pandas>=0.25->statsmodels) (2022.7)\n",
      "Requirement already satisfied: six in c:\\users\\admin\\anaconda3\\envs\\aiml\\lib\\site-packages (from patsy>=0.5.2->statsmodels) (1.16.0)\n"
     ]
    }
   ],
   "source": [
    "pip install statsmodels"
   ]
  },
  {
   "cell_type": "code",
   "execution_count": null,
   "id": "a0c4e32c",
   "metadata": {},
   "outputs": [],
   "source": []
  }
 ],
 "metadata": {
  "kernelspec": {
   "display_name": "Python 3 (ipykernel)",
   "language": "python",
   "name": "python3"
  },
  "language_info": {
   "codemirror_mode": {
    "name": "ipython",
    "version": 3
   },
   "file_extension": ".py",
   "mimetype": "text/x-python",
   "name": "python",
   "nbconvert_exporter": "python",
   "pygments_lexer": "ipython3",
   "version": "3.7.6"
  }
 },
 "nbformat": 4,
 "nbformat_minor": 5
}
